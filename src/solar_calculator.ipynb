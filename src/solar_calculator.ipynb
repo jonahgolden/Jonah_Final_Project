{
 "cells": [
  {
   "cell_type": "code",
   "execution_count": 242,
   "metadata": {
    "collapsed": false
   },
   "outputs": [],
   "source": [
    "# Import Libraries\n",
    "\n",
    "import numpy as np\n",
    "import sympy as sp\n",
    "from sympy import *\n",
    "x, y, z, t, Day_Of_Year  = symbols('x y z t Day_Of_Year')\n",
    "import pandas as pd\n",
    "from pandas import set_option # Option to restrict display\n",
    "set_option('display.max_rows',15)\n",
    "import matplotlib.pyplot as plt\n",
    "import matplotlib.pylab as pylab\n",
    "%matplotlib inline"
   ]
  },
  {
   "cell_type": "code",
   "execution_count": 243,
   "metadata": {
    "collapsed": false
   },
   "outputs": [],
   "source": [
    "# Defining constants\n",
    "S0 = 1367.63 # Solar constant\n",
    "Dis_n = [0,1,2]\n",
    "Dis_an = [1.00011,0.034221,0.000719]\n",
    "Dis_bn = [0,0.00128,0.000077]\n",
    "Dec_n = [0,1,2,3]\n",
    "Dec_an = [0.006918,-0.399912,-0.006758,-0.002697]\n",
    "Dec_bn = [0,0.070257,0.000907,0.00148]\n",
    "Lattitude = 49.7\n",
    "Area = 1.6368 # Area in m^2 that is to be covered by solar panels. 1.6368 for 255 W panel\n",
    "Atm = .75 # Proportion of solar energy that makes it to the earth's surface\n",
    "Panel_Efficiency = .16 # Efficiency of solar panels in converting solar energy to electricity\n",
    "radiation_through_clouds = 0.7"
   ]
  },
  {
   "cell_type": "markdown",
   "metadata": {
    "collapsed": false
   },
   "source": [
    "First, I'm going to define a function that will print the power (watts per square meter)that the earth would receive from the sun if there were no atmosphere."
   ]
  },
  {
   "cell_type": "code",
   "execution_count": null,
   "metadata": {
    "collapsed": true
   },
   "outputs": [],
   "source": []
  },
  {
   "cell_type": "code",
   "execution_count": 244,
   "metadata": {
    "collapsed": false
   },
   "outputs": [],
   "source": [
    "def Solar_Power_Calculator(Day_Of_Year,Lattitude,Hour_of_Day):\n",
    "    '''This function will tell you how much power the sun is radiating on one square meter\n",
    "    of the earth when it is sunny in any location in the world at any time.\n",
    "    Inputs: Day_Of_Year, Lattitude, Hour_of_Day\n",
    "    Output: Power (watts)'''\n",
    "    # Make some assertions about the inputs of the function.\n",
    "    assert 0 < Day_Of_Year <= 365, 'Day of year must be from 1 through 365.'\n",
    "    \n",
    "    # Hour_of_Day input is from 0 through 24, but we need hours in a different form for our \n",
    "    # calculations.\n",
    "    if Hour_of_Day >= 12:\n",
    "        hour = Hour_of_Day - 12\n",
    "    elif Hour_of_Day < 12:\n",
    "        hour = 12 - Hour_of_Day\n",
    "    # Calculating Theta D\n",
    "    ThetaD = (2*np.pi*Day_Of_Year)/365\n",
    "    # Calculating distance\n",
    "    # Constants for calculating distance\n",
    "    Dis_n = [0,1,2]\n",
    "    Dis_an = [1.00011,0.034221,0.000719]\n",
    "    Dis_bn = [0,0.00128,0.000077]\n",
    "\n",
    "    Dis1 = Dis_an[0]*np.cos(Dis_n[0]*ThetaD)+Dis_bn[0]*np.sin(Dis_n[0]*ThetaD)\n",
    "    Dis2 = Dis_an[1]*np.cos(Dis_n[1]*ThetaD)+Dis_bn[1]*np.sin(Dis_n[1]*ThetaD)\n",
    "    Dis3 = Dis_an[2]*np.cos(Dis_n[2]*ThetaD)+Dis_bn[2]*np.sin(Dis_n[2]*ThetaD)\n",
    "\n",
    "    # Calculate Distance\n",
    "    Distance = Dis1+Dis2+Dis3\n",
    "\n",
    "    # Constants for calculating declination\n",
    "    Dec_n = [0,1,2,3]\n",
    "    Dec_an = [0.006918,-0.399912,-0.006758,-0.002697]\n",
    "    Dec_bn = [0,0.070257,0.000907,0.00148]\n",
    "\n",
    "    Dec1 = Dec_an[0]*np.cos(Dec_n[0]*ThetaD)+Dec_bn[0]*np.sin(Dec_n[0]*ThetaD)\n",
    "    Dec2 = Dec_an[1]*np.cos(Dec_n[1]*ThetaD)+Dec_bn[1]*np.sin(Dec_n[1]*ThetaD)\n",
    "    Dec3 = Dec_an[2]*np.cos(Dec_n[2]*ThetaD)+Dec_bn[2]*np.sin(Dec_n[2]*ThetaD)\n",
    "    Dec4 = Dec_an[3]*np.cos(Dec_n[3]*ThetaD)+Dec_bn[3]*np.sin(Dec_n[3]*ThetaD)\n",
    "\n",
    "\n",
    "    # Calculate Dec_radians\n",
    "    Dec_radians = Dec1+Dec2+Dec3+Dec4\n",
    "    Dec_degrees = np.degrees(Dec_radians)\n",
    "\n",
    "    # For Hour Angle\n",
    "    Hour_angle = np.radians(hour*15)\n",
    "\n",
    "    # For Radians and Cos Solar Zenith Angle\n",
    "    radians = (np.pi/180)*Lattitude\n",
    "    CSZA = np.sin(radians)*np.sin(Dec_radians)+np.cos(radians)*np.cos(Dec_radians)*np.cos(Hour_angle)# Cos Solar Zenith Angle\n",
    "    # When the sun is down, CSZA is negative, but we want it to be zero (because when the sun\n",
    "    # is down, it isn't radiating on that location.\n",
    "    if CSZA < 0:\n",
    "        CSZA = 0\n",
    "    # Calculate Energy/Area (W/m^2)\n",
    "    Watts_Per_SqMeter = S0*Distance*CSZA*Atm\n",
    "\n",
    "    return(Watts_Per_SqMeter)"
   ]
  },
  {
   "cell_type": "code",
   "execution_count": 245,
   "metadata": {
    "collapsed": false
   },
   "outputs": [
    {
     "data": {
      "text/plain": [
       "307.93380363774702"
      ]
     },
     "execution_count": 245,
     "metadata": {},
     "output_type": "execute_result"
    }
   ],
   "source": [
    "Solar_Power_Calculator(160,-49,12)"
   ]
  },
  {
   "cell_type": "markdown",
   "metadata": {},
   "source": [
    "Now I'm going to take the above function and do the same thing except make it print the number of Wh in one square meter for a year."
   ]
  },
  {
   "cell_type": "code",
   "execution_count": 246,
   "metadata": {
    "collapsed": false
   },
   "outputs": [],
   "source": [
    "# Making a list called of Theta D for every day of the year\n",
    "def ThetaD():\n",
    "    year = list(range(1,366))\n",
    "    ThetaD_list = []\n",
    "    for i in year:\n",
    "        ThetaD_list.append((2*np.pi*i)/365)\n",
    "    return(ThetaD_list)"
   ]
  },
  {
   "cell_type": "code",
   "execution_count": 247,
   "metadata": {
    "collapsed": false
   },
   "outputs": [],
   "source": [
    "ThetaD_list = ThetaD()"
   ]
  },
  {
   "cell_type": "code",
   "execution_count": 248,
   "metadata": {
    "collapsed": false
   },
   "outputs": [],
   "source": [
    "def Solar_Energy_Calculator(latitude, panel_efficiency, area):\n",
    "    '''This function calculates the energy that can be generated in any given place in the \n",
    "    world over one year sans clouds.  \n",
    "    Inputs: lattitude, panel_efficiency (a number between 0 and 1), and area (of solar panels\n",
    "    in square meters).'''\n",
    "    \n",
    "    # Make some assertions about the inputs of the function.\n",
    "    assert -90 <= latitude <= 90, 'Latitude must be between -90 and 90.'\n",
    "    assert 0 <= panel_efficiency <= 1, 'Panel efficiency must be between 0 and 1.'\n",
    "    assert area > 0, 'Area of solar panel array must be greater than 0.'\n",
    "    \n",
    "    \n",
    "    # Making Distance and Dec_radians lists for each day of the year\n",
    "    radians = np.pi/180*latitude\n",
    "    Hours = [12,11,10,9,8,7,6,5,4,3,2,1,0,1,2,3,4,5,6,7,8,9,10,11] # A list of all the hours of the day\n",
    "    Solar_Flux = 0 # Energy generated from given area of solar panels in one hour\n",
    "    Watts_Every_Hour = [] # A list that will become the Wh/m^2 every hour for a year\n",
    "    kWh = 0 # A number that will become the total kWh in one place in one year.\n",
    "    for i in ThetaD_list:\n",
    "        # Calculate the Distance\n",
    "        Dis1 = Dis_an[0]*np.cos(Dis_n[0]*i)+Dis_bn[0]*np.sin(Dis_n[0]*i)\n",
    "        Dis2 = Dis_an[1]*np.cos(Dis_n[1]*i)+Dis_bn[1]*np.sin(Dis_n[1]*i)\n",
    "        Dis3 = Dis_an[2]*np.cos(Dis_n[2]*i)+Dis_bn[2]*np.sin(Dis_n[2]*i)\n",
    "        Distance = Dis1+Dis2+Dis3\n",
    "        # Calculate the Declination\n",
    "        Dec1 = Dec_an[0]*np.cos(Dec_n[0]*i)+Dec_bn[0]*np.sin(Dec_n[0]*i)\n",
    "        Dec2 = Dec_an[1]*np.cos(Dec_n[1]*i)+Dec_bn[1]*np.sin(Dec_n[1]*i)\n",
    "        Dec3 = Dec_an[2]*np.cos(Dec_n[2]*i)+Dec_bn[2]*np.sin(Dec_n[2]*i)\n",
    "        Dec4 = Dec_an[3]*np.cos(Dec_n[3]*i)+Dec_bn[3]*np.sin(Dec_n[3]*i)\n",
    "        Dec_radians = Dec1+Dec2+Dec3+Dec4\n",
    "        Dec_degrees = (np.degrees(Dec_radians))\n",
    "        for i in Hours:\n",
    "            Hour_angle = np.radians(i*15)\n",
    "            CSZA = (np.sin(radians)*np.sin(Dec_radians)) + (np.cos(radians)*np.cos(Dec_radians)*np.cos(Hour_angle))\n",
    "            if CSZA < 0:\n",
    "                CSZA = 0\n",
    "            Solar_Flux = (S0)*Distance*CSZA*Atm*panel_efficiency*area\n",
    "            Watts_Every_Hour.append(Solar_Flux)\n",
    "    return(Watts_Every_Hour)"
   ]
  },
  {
   "cell_type": "code",
   "execution_count": 249,
   "metadata": {
    "collapsed": false
   },
   "outputs": [],
   "source": [
    "Watts = Solar_Energy_Calculator(49,.16,1.6)\n"
   ]
  },
  {
   "cell_type": "code",
   "execution_count": null,
   "metadata": {
    "collapsed": false
   },
   "outputs": [],
   "source": []
  },
  {
   "cell_type": "markdown",
   "metadata": {
    "collapsed": true
   },
   "source": [
    "# Loading Cloud Data"
   ]
  },
  {
   "cell_type": "markdown",
   "metadata": {},
   "source": [
    "The cloud cover data I am using is International Satellite Cloud Climatology Project (ISCCP). To understand this data in its raw form, visualize a map of the world overlayed by a grid of squares.  Each square is 2.5 degrees in width and height, so the grid is 144 x 72 (longitude x latitude) and has a total of 10368 squares. Each number in the data is the average annual cloud cover percentage for a single square. The first number represents average cloud cover  in the -90 degrees latitude, -180 degrees longitude box. Longitude varies first, and begins at -180 degrees and proceeds eastward to +180 degrees. Latitude begins at -90 degrees and proceeds northward to +90 degrees."
   ]
  },
  {
   "cell_type": "code",
   "execution_count": 250,
   "metadata": {
    "collapsed": false
   },
   "outputs": [],
   "source": [
    "# First, I'm loading the raw cloud cover data.\n",
    "cloud_dat = pd.read_table('../data/weather.txt',sep='\\s+')"
   ]
  },
  {
   "cell_type": "code",
   "execution_count": 251,
   "metadata": {
    "collapsed": false
   },
   "outputs": [
    {
     "ename": "AttributeError",
     "evalue": "'list' object has no attribute 'name'",
     "output_type": "error",
     "traceback": [
      "\u001b[0;31m---------------------------------------------------------------------------\u001b[0m",
      "\u001b[0;31mAttributeError\u001b[0m                            Traceback (most recent call last)",
      "\u001b[0;32m//anaconda/lib/python3.4/site-packages/IPython/core/formatters.py\u001b[0m in \u001b[0;36m__call__\u001b[0;34m(self, obj)\u001b[0m\n\u001b[1;32m    332\u001b[0m             \u001b[0mmethod\u001b[0m \u001b[0;34m=\u001b[0m \u001b[0m_safe_get_formatter_method\u001b[0m\u001b[0;34m(\u001b[0m\u001b[0mobj\u001b[0m\u001b[0;34m,\u001b[0m \u001b[0mself\u001b[0m\u001b[0;34m.\u001b[0m\u001b[0mprint_method\u001b[0m\u001b[0;34m)\u001b[0m\u001b[0;34m\u001b[0m\u001b[0m\n\u001b[1;32m    333\u001b[0m             \u001b[0;32mif\u001b[0m \u001b[0mmethod\u001b[0m \u001b[0;32mis\u001b[0m \u001b[0;32mnot\u001b[0m \u001b[0;32mNone\u001b[0m\u001b[0;34m:\u001b[0m\u001b[0;34m\u001b[0m\u001b[0m\n\u001b[0;32m--> 334\u001b[0;31m                 \u001b[0;32mreturn\u001b[0m \u001b[0mmethod\u001b[0m\u001b[0;34m(\u001b[0m\u001b[0;34m)\u001b[0m\u001b[0;34m\u001b[0m\u001b[0m\n\u001b[0m\u001b[1;32m    335\u001b[0m             \u001b[0;32mreturn\u001b[0m \u001b[0;32mNone\u001b[0m\u001b[0;34m\u001b[0m\u001b[0m\n\u001b[1;32m    336\u001b[0m         \u001b[0;32melse\u001b[0m\u001b[0;34m:\u001b[0m\u001b[0;34m\u001b[0m\u001b[0m\n",
      "\u001b[0;32m//anaconda/lib/python3.4/site-packages/pandas/core/frame.py\u001b[0m in \u001b[0;36m_repr_html_\u001b[0;34m(self)\u001b[0m\n\u001b[1;32m    572\u001b[0m             return self.to_html(max_rows=max_rows, max_cols=max_cols,\n\u001b[1;32m    573\u001b[0m                                 \u001b[0mshow_dimensions\u001b[0m\u001b[0;34m=\u001b[0m\u001b[0mshow_dimensions\u001b[0m\u001b[0;34m,\u001b[0m\u001b[0;34m\u001b[0m\u001b[0m\n\u001b[0;32m--> 574\u001b[0;31m                                 notebook=True)\n\u001b[0m\u001b[1;32m    575\u001b[0m         \u001b[0;32melse\u001b[0m\u001b[0;34m:\u001b[0m\u001b[0;34m\u001b[0m\u001b[0m\n\u001b[1;32m    576\u001b[0m             \u001b[0;32mreturn\u001b[0m \u001b[0;32mNone\u001b[0m\u001b[0;34m\u001b[0m\u001b[0m\n",
      "\u001b[0;32m//anaconda/lib/python3.4/site-packages/pandas/core/frame.py\u001b[0m in \u001b[0;36mto_html\u001b[0;34m(self, buf, columns, col_space, colSpace, header, index, na_rep, formatters, float_format, sparsify, index_names, justify, bold_rows, classes, escape, max_rows, max_cols, show_dimensions, notebook)\u001b[0m\n\u001b[1;32m   1487\u001b[0m                                            \u001b[0mmax_cols\u001b[0m\u001b[0;34m=\u001b[0m\u001b[0mmax_cols\u001b[0m\u001b[0;34m,\u001b[0m\u001b[0;34m\u001b[0m\u001b[0m\n\u001b[1;32m   1488\u001b[0m                                            show_dimensions=show_dimensions)\n\u001b[0;32m-> 1489\u001b[0;31m         \u001b[0mformatter\u001b[0m\u001b[0;34m.\u001b[0m\u001b[0mto_html\u001b[0m\u001b[0;34m(\u001b[0m\u001b[0mclasses\u001b[0m\u001b[0;34m=\u001b[0m\u001b[0mclasses\u001b[0m\u001b[0;34m,\u001b[0m \u001b[0mnotebook\u001b[0m\u001b[0;34m=\u001b[0m\u001b[0mnotebook\u001b[0m\u001b[0;34m)\u001b[0m\u001b[0;34m\u001b[0m\u001b[0m\n\u001b[0m\u001b[1;32m   1490\u001b[0m \u001b[0;34m\u001b[0m\u001b[0m\n\u001b[1;32m   1491\u001b[0m         \u001b[0;32mif\u001b[0m \u001b[0mbuf\u001b[0m \u001b[0;32mis\u001b[0m \u001b[0;32mNone\u001b[0m\u001b[0;34m:\u001b[0m\u001b[0;34m\u001b[0m\u001b[0m\n",
      "\u001b[0;32m//anaconda/lib/python3.4/site-packages/pandas/core/format.py\u001b[0m in \u001b[0;36mto_html\u001b[0;34m(self, classes, notebook)\u001b[0m\n\u001b[1;32m    735\u001b[0m                                       notebook=notebook)\n\u001b[1;32m    736\u001b[0m         \u001b[0;32mif\u001b[0m \u001b[0mhasattr\u001b[0m\u001b[0;34m(\u001b[0m\u001b[0mself\u001b[0m\u001b[0;34m.\u001b[0m\u001b[0mbuf\u001b[0m\u001b[0;34m,\u001b[0m \u001b[0;34m'write'\u001b[0m\u001b[0;34m)\u001b[0m\u001b[0;34m:\u001b[0m\u001b[0;34m\u001b[0m\u001b[0m\n\u001b[0;32m--> 737\u001b[0;31m             \u001b[0mhtml_renderer\u001b[0m\u001b[0;34m.\u001b[0m\u001b[0mwrite_result\u001b[0m\u001b[0;34m(\u001b[0m\u001b[0mself\u001b[0m\u001b[0;34m.\u001b[0m\u001b[0mbuf\u001b[0m\u001b[0;34m)\u001b[0m\u001b[0;34m\u001b[0m\u001b[0m\n\u001b[0m\u001b[1;32m    738\u001b[0m         \u001b[0;32melif\u001b[0m \u001b[0misinstance\u001b[0m\u001b[0;34m(\u001b[0m\u001b[0mself\u001b[0m\u001b[0;34m.\u001b[0m\u001b[0mbuf\u001b[0m\u001b[0;34m,\u001b[0m \u001b[0mcompat\u001b[0m\u001b[0;34m.\u001b[0m\u001b[0mstring_types\u001b[0m\u001b[0;34m)\u001b[0m\u001b[0;34m:\u001b[0m\u001b[0;34m\u001b[0m\u001b[0m\n\u001b[1;32m    739\u001b[0m             \u001b[0;32mwith\u001b[0m \u001b[0mopen\u001b[0m\u001b[0;34m(\u001b[0m\u001b[0mself\u001b[0m\u001b[0;34m.\u001b[0m\u001b[0mbuf\u001b[0m\u001b[0;34m,\u001b[0m \u001b[0;34m'w'\u001b[0m\u001b[0;34m)\u001b[0m \u001b[0;32mas\u001b[0m \u001b[0mf\u001b[0m\u001b[0;34m:\u001b[0m\u001b[0;34m\u001b[0m\u001b[0m\n",
      "\u001b[0;32m//anaconda/lib/python3.4/site-packages/pandas/core/format.py\u001b[0m in \u001b[0;36mwrite_result\u001b[0;34m(self, buf)\u001b[0m\n\u001b[1;32m    943\u001b[0m \u001b[0;34m\u001b[0m\u001b[0m\n\u001b[1;32m    944\u001b[0m         \u001b[0mindent\u001b[0m \u001b[0;34m+=\u001b[0m \u001b[0mself\u001b[0m\u001b[0;34m.\u001b[0m\u001b[0mindent_delta\u001b[0m\u001b[0;34m\u001b[0m\u001b[0m\n\u001b[0;32m--> 945\u001b[0;31m         \u001b[0mindent\u001b[0m \u001b[0;34m=\u001b[0m \u001b[0mself\u001b[0m\u001b[0;34m.\u001b[0m\u001b[0m_write_header\u001b[0m\u001b[0;34m(\u001b[0m\u001b[0mindent\u001b[0m\u001b[0;34m)\u001b[0m\u001b[0;34m\u001b[0m\u001b[0m\n\u001b[0m\u001b[1;32m    946\u001b[0m         \u001b[0mindent\u001b[0m \u001b[0;34m=\u001b[0m \u001b[0mself\u001b[0m\u001b[0;34m.\u001b[0m\u001b[0m_write_body\u001b[0m\u001b[0;34m(\u001b[0m\u001b[0mindent\u001b[0m\u001b[0;34m)\u001b[0m\u001b[0;34m\u001b[0m\u001b[0m\n\u001b[1;32m    947\u001b[0m \u001b[0;34m\u001b[0m\u001b[0m\n",
      "\u001b[0;32m//anaconda/lib/python3.4/site-packages/pandas/core/format.py\u001b[0m in \u001b[0;36m_write_header\u001b[0;34m(self, indent)\u001b[0m\n\u001b[1;32m   1062\u001b[0m                               header=True)\n\u001b[1;32m   1063\u001b[0m         \u001b[0;32melse\u001b[0m\u001b[0;34m:\u001b[0m\u001b[0;34m\u001b[0m\u001b[0m\n\u001b[0;32m-> 1064\u001b[0;31m             \u001b[0mcol_row\u001b[0m \u001b[0;34m=\u001b[0m \u001b[0m_column_header\u001b[0m\u001b[0;34m(\u001b[0m\u001b[0;34m)\u001b[0m\u001b[0;34m\u001b[0m\u001b[0m\n\u001b[0m\u001b[1;32m   1065\u001b[0m             \u001b[0malign\u001b[0m \u001b[0;34m=\u001b[0m \u001b[0mself\u001b[0m\u001b[0;34m.\u001b[0m\u001b[0mfmt\u001b[0m\u001b[0;34m.\u001b[0m\u001b[0mjustify\u001b[0m\u001b[0;34m\u001b[0m\u001b[0m\n\u001b[1;32m   1066\u001b[0m \u001b[0;34m\u001b[0m\u001b[0m\n",
      "\u001b[0;32m//anaconda/lib/python3.4/site-packages/pandas/core/format.py\u001b[0m in \u001b[0;36m_column_header\u001b[0;34m()\u001b[0m\n\u001b[1;32m    980\u001b[0m             \u001b[0;32melse\u001b[0m\u001b[0;34m:\u001b[0m\u001b[0;34m\u001b[0m\u001b[0m\n\u001b[1;32m    981\u001b[0m                 \u001b[0;32mif\u001b[0m \u001b[0mself\u001b[0m\u001b[0;34m.\u001b[0m\u001b[0mfmt\u001b[0m\u001b[0;34m.\u001b[0m\u001b[0mindex\u001b[0m\u001b[0;34m:\u001b[0m\u001b[0;34m\u001b[0m\u001b[0m\n\u001b[0;32m--> 982\u001b[0;31m                     \u001b[0mrow\u001b[0m\u001b[0;34m.\u001b[0m\u001b[0mappend\u001b[0m\u001b[0;34m(\u001b[0m\u001b[0mself\u001b[0m\u001b[0;34m.\u001b[0m\u001b[0mcolumns\u001b[0m\u001b[0;34m.\u001b[0m\u001b[0mname\u001b[0m \u001b[0;32mor\u001b[0m \u001b[0;34m''\u001b[0m\u001b[0;34m)\u001b[0m\u001b[0;34m\u001b[0m\u001b[0m\n\u001b[0m\u001b[1;32m    983\u001b[0m                 \u001b[0mrow\u001b[0m\u001b[0;34m.\u001b[0m\u001b[0mextend\u001b[0m\u001b[0;34m(\u001b[0m\u001b[0mself\u001b[0m\u001b[0;34m.\u001b[0m\u001b[0mcolumns\u001b[0m\u001b[0;34m)\u001b[0m\u001b[0;34m\u001b[0m\u001b[0m\n\u001b[1;32m    984\u001b[0m             \u001b[0;32mreturn\u001b[0m \u001b[0mrow\u001b[0m\u001b[0;34m\u001b[0m\u001b[0m\n",
      "\u001b[0;31mAttributeError\u001b[0m: 'list' object has no attribute 'name'"
     ]
    },
    {
     "data": {
      "text/plain": [
       "Empty DataFrame\n",
       "Columns: [Month, Energy Generated(kWh)]\n",
       "Index: []"
      ]
     },
     "execution_count": 251,
     "metadata": {},
     "output_type": "execute_result"
    }
   ],
   "source": [
    "cloud_dat"
   ]
  },
  {
   "cell_type": "code",
   "execution_count": null,
   "metadata": {
    "collapsed": false
   },
   "outputs": [],
   "source": [
    "# Right now the data is in 1 row and 10368 columns, so it requires some \n",
    "# cleaning up\n",
    "cloud_dat.shape"
   ]
  },
  {
   "cell_type": "code",
   "execution_count": null,
   "metadata": {
    "collapsed": false
   },
   "outputs": [],
   "source": [
    "# After transposing, the data is in 1 column and 10368 rows\n",
    "cloud_dat = cloud_dat.transpose()\n",
    "cloud_dat.shape"
   ]
  },
  {
   "cell_type": "code",
   "execution_count": null,
   "metadata": {
    "collapsed": false
   },
   "outputs": [],
   "source": [
    "# Now I will change the name of the column of data and reset the index\n",
    "cloud_dat = cloud_dat.reset_index()\n",
    "cloud_dat.columns=['cloud_ratio']\n",
    "# Here is a glimpse of what the data looks like now\n",
    "cloud_dat"
   ]
  },
  {
   "cell_type": "code",
   "execution_count": null,
   "metadata": {
    "collapsed": false
   },
   "outputs": [],
   "source": [
    "# Next, I load a dataframe that I created in excel with three columns \n",
    "# (month, lattitude, and longitude) that have been filled in to line up \n",
    "# with the 'data' object.  \n",
    "clouds = pd.read_excel('../data/blank_weather.xlsx',sep='\\s+')\n",
    "clouds"
   ]
  },
  {
   "cell_type": "code",
   "execution_count": null,
   "metadata": {
    "collapsed": false
   },
   "outputs": [],
   "source": [
    "# Now, we will add a fourth column to 'clouds' that is our data\n",
    "clouds['cloud_ratio'] = cloud_dat['cloud_ratio']\n",
    "clouds"
   ]
  },
  {
   "cell_type": "markdown",
   "metadata": {},
   "source": [
    "Now, 'clouds' is a nice looking dataframe that includes lattitude, longitude, and average sun that gets through the clouds for every month and the entire world"
   ]
  },
  {
   "cell_type": "markdown",
   "metadata": {},
   "source": [
    "Now I will make a function that takes lattitude and longitude as an input and returns sun_ratio for each month as an output"
   ]
  },
  {
   "cell_type": "code",
   "execution_count": null,
   "metadata": {
    "collapsed": true
   },
   "outputs": [],
   "source": [
    "Watts = Solar_Energy_Calculator(49.7,.16,1.68)"
   ]
  },
  {
   "cell_type": "code",
   "execution_count": null,
   "metadata": {
    "collapsed": true
   },
   "outputs": [],
   "source": [
    "def find_sun(lat,long):\n",
    "    '''This function finds the ratio of clouds for any lattitude and longitude and converts\n",
    "    it into the ratio of radiation that reaches the earth.\n",
    "    inputs: lattitude, longitude\n",
    "    output: radiation ratio'''\n",
    "    x = clouds.loc[(clouds['lattitude'] <= lat) & (clouds['lattitude'] > (lat-2.5)) & (clouds['longitude'] <= long) & (clouds['longitude'] > (long-2.5))]\n",
    "    radiation_ratio = 1-((float(x.iloc[0,2])*0.6)/100)\n",
    "    return(radiation_ratio)"
   ]
  },
  {
   "cell_type": "code",
   "execution_count": null,
   "metadata": {
    "collapsed": false
   },
   "outputs": [],
   "source": [
    "radiation = find_sun(49,-123)\n",
    "radiation"
   ]
  },
  {
   "cell_type": "code",
   "execution_count": null,
   "metadata": {
    "collapsed": false
   },
   "outputs": [],
   "source": [
    "def apply_clouds(watts,radiation):\n",
    "    '''This function takes a list of watts without clouds and radiation ratio due to clouds\n",
    "    and gives you a list of the real solar generation prediction.'''\n",
    "    energy = []\n",
    "    for i in Watts:\n",
    "        energy.append(i*radiation)\n",
    "    return(energy)"
   ]
  },
  {
   "cell_type": "code",
   "execution_count": null,
   "metadata": {
    "collapsed": false
   },
   "outputs": [],
   "source": [
    "final = apply_clouds(Watts,radiation)\n",
    "kWh = sum(final)/1000"
   ]
  },
  {
   "cell_type": "code",
   "execution_count": null,
   "metadata": {
    "collapsed": false
   },
   "outputs": [],
   "source": [
    "final = pd.DataFrame(final)\n",
    "final = final.reset_index()\n",
    "final.columns=['Day','Power']\n",
    "final['Day'] = final['Day']/24\n",
    "final"
   ]
  },
  {
   "cell_type": "markdown",
   "metadata": {
    "collapsed": false
   },
   "source": [
    "# Making a Table of production each month"
   ]
  },
  {
   "cell_type": "code",
   "execution_count": null,
   "metadata": {
    "collapsed": false
   },
   "outputs": [],
   "source": [
    "jan = sum(final.Power[0:744])\n",
    "feb = sum(final.Power[744:1416])\n",
    "mar = sum(final.Power[1416:2160])\n",
    "apr = sum(final.Power[2160:2880])\n",
    "may = sum(final.Power[2880:3620])\n",
    "jun = sum(final.Power[3620:4344])\n",
    "jul = sum(final.Power[4344:5088])\n",
    "aug = sum(final.Power[5088:5832])\n",
    "sep = sum(final.Power[5832:6552])\n",
    "ocb = sum(final.Power[6552:7296])\n",
    "nov = sum(final.Power[7296:8016])\n",
    "dec = sum(final.Power[8016:8760])\n"
   ]
  },
  {
   "cell_type": "code",
   "execution_count": null,
   "metadata": {
    "collapsed": false
   },
   "outputs": [],
   "source": []
  },
  {
   "cell_type": "code",
   "execution_count": null,
   "metadata": {
    "collapsed": false
   },
   "outputs": [],
   "source": [
    "\n"
   ]
  },
  {
   "cell_type": "markdown",
   "metadata": {},
   "source": [
    "#Making a Plot of the Data"
   ]
  },
  {
   "cell_type": "code",
   "execution_count": null,
   "metadata": {
    "collapsed": false
   },
   "outputs": [],
   "source": [
    "# change figure size\n",
    "plt.figure(figsize=(12,9))\n",
    "\n",
    "# add data to plot (x-axis, y-axis, )\n",
    "plt.plot(final['Day'],final['Power'],color='b',linestyle='-')\n",
    "\n",
    "# add title\n",
    "plt.title('Power Output',fontsize=24)\n",
    "\n",
    "# modify axis limits\n",
    "plt.xlim(0,365)\n",
    "\n",
    "# add axis labels\n",
    "plt.ylabel('Average Power Generation (Watts)',fontsize=16)\n",
    "plt.xlabel('Day of Year',fontsize=16)\n",
    "\n",
    "# save figure to graphs directory\n",
    "plt.savefig('TEST.pdf')\n",
    "pylab.savefig(\"../results/Power_Output.png\")\n",
    "\n",
    "# show plot\n",
    "plt.show()"
   ]
  },
  {
   "cell_type": "code",
   "execution_count": null,
   "metadata": {
    "collapsed": true
   },
   "outputs": [],
   "source": []
  }
 ],
 "metadata": {
  "kernelspec": {
   "display_name": "Python 3",
   "language": "python",
   "name": "python3"
  },
  "language_info": {
   "codemirror_mode": {
    "name": "ipython",
    "version": 3
   },
   "file_extension": ".py",
   "mimetype": "text/x-python",
   "name": "python",
   "nbconvert_exporter": "python",
   "pygments_lexer": "ipython3",
   "version": "3.4.3"
  }
 },
 "nbformat": 4,
 "nbformat_minor": 0
}
