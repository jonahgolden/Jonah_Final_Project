{
 "cells": [
  {
   "cell_type": "code",
   "execution_count": 36,
   "metadata": {
    "collapsed": false
   },
   "outputs": [],
   "source": [
    "# Import Libraries\n",
    "\n",
    "import numpy as np\n",
    "import sympy as sp\n",
    "from sympy import *\n",
    "x, y, z, t, Day_Of_Year  = symbols('x y z t Day_Of_Year')\n",
    "import pandas as pd\n",
    "from pandas import set_option # Option to restrict display\n",
    "set_option('display.max_rows',15)\n",
    "import matplotlib.pyplot as plt\n",
    "%matplotlib inline"
   ]
  },
  {
   "cell_type": "code",
   "execution_count": 37,
   "metadata": {
    "collapsed": true
   },
   "outputs": [],
   "source": [
    "# Defining some constants\n",
    "S0 = 1367.63 # Solar constant\n",
    "Dis_n = [0,1,2]\n",
    "Dis_an = [1.00011,0.034221,0.000719]\n",
    "Dis_bn = [0,0.00128,0.000077]\n",
    "Dec_n = [0,1,2,3]\n",
    "Dec_an = [0.006918,-0.399912,-0.006758,-0.002697]\n",
    "Dec_bn = [0,0.070257,0.000907,0.00148]\n",
    "Lattitude = 49.7\n",
    "Area = 1.6368 # Area in m^2 that is to be covered by solar panels. 1.6368 for 255 W panel\n",
    "Atm = .75 # Proportion of solar energy that makes it to the earth's surface\n",
    "Panel_Efficiency = .16 # Efficiency of solar panels in converting solar energy to electricity\n",
    "radians = np.pi/180*Lattitude"
   ]
  },
  {
   "cell_type": "markdown",
   "metadata": {
    "collapsed": false
   },
   "source": [
    "First, I'm going to define a function that will print the watts per square meter of energy that would the earth from the sun if there were no atmosphere"
   ]
  },
  {
   "cell_type": "code",
   "execution_count": 38,
   "metadata": {
    "collapsed": true
   },
   "outputs": [],
   "source": [
    "def Solar_Power_Calculator(Day_Of_Year,Lattitude,Hour_of_Day):\n",
    "    '''This function will '''\n",
    "    # Calculating Theta D\n",
    "    ThetaD = (2*np.pi*Day_Of_Year)/365\n",
    "    # Calculating distance\n",
    "    # Constants for calculating distance\n",
    "    Dis_n = [0,1,2]\n",
    "    Dis_an = [1.00011,0.034221,0.000719]\n",
    "    Dis_bn = [0,0.00128,0.000077]\n",
    "\n",
    "    Dis1 = Dis_an[0]*np.cos(Dis_n[0]*ThetaD)+Dis_bn[0]*np.sin(Dis_n[0]*ThetaD)\n",
    "    Dis2 = Dis_an[1]*np.cos(Dis_n[1]*ThetaD)+Dis_bn[1]*np.sin(Dis_n[1]*ThetaD)\n",
    "    Dis3 = Dis_an[2]*np.cos(Dis_n[2]*ThetaD)+Dis_bn[2]*np.sin(Dis_n[2]*ThetaD)\n",
    "\n",
    "    # Calculate Distance\n",
    "    Distance = Dis1+Dis2+Dis3\n",
    "\n",
    "    # Constants for calculating declination\n",
    "    Dec_n = [0,1,2,3]\n",
    "    Dec_an = [0.006918,-0.399912,-0.006758,-0.002697]\n",
    "    Dec_bn = [0,0.070257,0.000907,0.00148]\n",
    "\n",
    "    Dec1 = Dec_an[0]*np.cos(Dec_n[0]*ThetaD)+Dec_bn[0]*np.sin(Dec_n[0]*ThetaD)\n",
    "    Dec2 = Dec_an[1]*np.cos(Dec_n[1]*ThetaD)+Dec_bn[1]*np.sin(Dec_n[1]*ThetaD)\n",
    "    Dec3 = Dec_an[2]*np.cos(Dec_n[2]*ThetaD)+Dec_bn[2]*np.sin(Dec_n[2]*ThetaD)\n",
    "    Dec4 = Dec_an[3]*np.cos(Dec_n[3]*ThetaD)+Dec_bn[3]*np.sin(Dec_n[3]*ThetaD)\n",
    "\n",
    "\n",
    "    # Calculate Dec_radians\n",
    "    Dec_radians = Dec1+Dec2+Dec3+Dec4\n",
    "    Dec_degrees = np.degrees(Dec_radians)\n",
    "\n",
    "    # For Hour Angle\n",
    "    Hour_angle = np.radians(Hour_of_Day*15)\n",
    "\n",
    "    # For Radians and Cos Solar Zenith Angle\n",
    "    radians = np.pi/180*Lattitude\n",
    "    CSZA = np.sin(radians)*np.sin(Dec_radians)+np.cos(radians)*np.cos(Dec_radians)*np.cos(Hour_angle)# Cos Solar Zenith Angle\n",
    "\n",
    "    # Calculate Energy/Area (W/m^2)\n",
    "    Watts_Per_SqMeter = S0*Distance*CSZA\n",
    "\n",
    "    print(Watts_Per_SqMeter)"
   ]
  },
  {
   "cell_type": "code",
   "execution_count": 39,
   "metadata": {
    "collapsed": false
   },
   "outputs": [
    {
     "name": "stdout",
     "output_type": "stream",
     "text": [
      "474.11127638\n"
     ]
    }
   ],
   "source": [
    "Solar_Power_Calculator(17,49.7,0)"
   ]
  },
  {
   "cell_type": "markdown",
   "metadata": {},
   "source": [
    "Now I'm going to take the above function and do the same thing except make it print the number of Wh in one square meter for a year."
   ]
  },
  {
   "cell_type": "code",
   "execution_count": 40,
   "metadata": {
    "collapsed": false
   },
   "outputs": [
    {
     "data": {
      "text/plain": [
       "365"
      ]
     },
     "execution_count": 40,
     "metadata": {},
     "output_type": "execute_result"
    }
   ],
   "source": [
    "# Making a list called total of Theta D for every day of the year\n",
    "year = list(range(1,366))\n",
    "ThetaD_list = []\n",
    "for i in year:\n",
    "    ThetaD_list.append((2*np.pi*i)/365)\n",
    "len(ThetaD_list)"
   ]
  },
  {
   "cell_type": "markdown",
   "metadata": {},
   "source": [
    "In the next cell I will define some constants and variables.  Of these, Lattitude, Area, and Panel_Efficiency are variables that should eventually be inputs to my final program.  The others are constants that are always the same."
   ]
  },
  {
   "cell_type": "code",
   "execution_count": null,
   "metadata": {
    "collapsed": false
   },
   "outputs": [],
   "source": []
  },
  {
   "cell_type": "code",
   "execution_count": 41,
   "metadata": {
    "collapsed": false
   },
   "outputs": [],
   "source": [
    "# Making Distance and Dec_radians lists for each day of the year\n",
    "Hours = [12,11,10,9,8,7,6,5,4,3,2,1,0,1,2,3,4,5,6,7,8,9,10,11] # A list of all the hours of the day\n",
    "Solar_Flux = 0 # Energy generated from given area of solar panels in one hour\n",
    "Watts_Every_Hour = [] # A list that will become the Wh/m^2 every hour for a year\n",
    "kWh = 0 # A number that will become the total kWh in one place in one year.\n",
    "for i in ThetaD_list:\n",
    "    # Calculate the Distance\n",
    "    Dis1 = Dis_an[0]*np.cos(Dis_n[0]*i)+Dis_bn[0]*np.sin(Dis_n[0]*i)\n",
    "    Dis2 = Dis_an[1]*np.cos(Dis_n[1]*i)+Dis_bn[1]*np.sin(Dis_n[1]*i)\n",
    "    Dis3 = Dis_an[2]*np.cos(Dis_n[2]*i)+Dis_bn[2]*np.sin(Dis_n[2]*i)\n",
    "    Distance = Dis1+Dis2+Dis3\n",
    "    # Calculate the Declination\n",
    "    Dec1 = Dec_an[0]*np.cos(Dec_n[0]*i)+Dec_bn[0]*np.sin(Dec_n[0]*i)\n",
    "    Dec2 = Dec_an[1]*np.cos(Dec_n[1]*i)+Dec_bn[1]*np.sin(Dec_n[1]*i)\n",
    "    Dec3 = Dec_an[2]*np.cos(Dec_n[2]*i)+Dec_bn[2]*np.sin(Dec_n[2]*i)\n",
    "    Dec4 = Dec_an[3]*np.cos(Dec_n[3]*i)+Dec_bn[3]*np.sin(Dec_n[3]*i)\n",
    "    Dec_radians = Dec1+Dec2+Dec3+Dec4\n",
    "    Dec_degrees = (np.degrees(Dec_radians))\n",
    "    for i in Hours:\n",
    "        Hour_angle = np.radians(i*15)\n",
    "        CSZA = (np.sin(radians)*np.sin(Dec_radians)) + (np.cos(radians)*np.cos(Dec_radians)*np.cos(Hour_angle))\n",
    "        if CSZA < 0:\n",
    "            CSZA = 0\n",
    "        Solar_Flux = (S0)*Distance*CSZA*Atm*Panel_Efficiency*Area\n",
    "        Watts_Every_Hour.append(Solar_Flux)\n",
    "    kWh = sum(Watts_Every_Hour)/1000"
   ]
  },
  {
   "cell_type": "code",
   "execution_count": 42,
   "metadata": {
    "collapsed": false
   },
   "outputs": [
    {
     "data": {
      "text/plain": [
       "493.44901314427739"
      ]
     },
     "execution_count": 42,
     "metadata": {},
     "output_type": "execute_result"
    }
   ],
   "source": [
    "kWh"
   ]
  },
  {
   "cell_type": "code",
   "execution_count": 43,
   "metadata": {
    "collapsed": false
   },
   "outputs": [
    {
     "data": {
      "text/plain": [
       "[<matplotlib.lines.Line2D at 0x10e94e710>]"
      ]
     },
     "execution_count": 43,
     "metadata": {},
     "output_type": "execute_result"
    },
    {
     "data": {
      "image/png": "[encoded data removed]",
      "text/plain": [
       "<matplotlib.figure.Figure at 0x10f447dd8>"
      ]
     },
     "metadata": {},
     "output_type": "display_data"
    }
   ],
   "source": [
    "# Plotting Watts_Every_Hour\n",
    "plt.plot(Watts_Every_Hour)"
   ]
  },
  {
   "cell_type": "markdown",
   "metadata": {
    "collapsed": false
   },
   "source": [
    "I need to find a way to resample Watts_Every_Hour for this graph because right now it goes up and down every day"
   ]
  },
  {
   "cell_type": "markdown",
   "metadata": {
    "collapsed": true
   },
   "source": [
    "# Loading Cloud Data"
   ]
  },
  {
   "cell_type": "markdown",
   "metadata": {},
   "source": [
    "The cloud cover data I am using is International Satellite Cloud Climatology Project (ISCCP). To understand this data in its raw form, visualize a map of the world overlayed by a grid of squares.  Each square is 2.5 degrees in width and height, so the grid is 144 x 72 (longitude x latitude) and has a total of 10368 squares. Each number in the data is the average cloud cover in a square. The first number represents average cloud cover for January in the 0 degrees latitude, 0 degrees longitude box. Longitude varies first, and begins at -180 degrees and proceeds eastward to +180 degrees. Latitude begins at -90 degrees and proceeds northward to +90 degrees. After 10368 data points, it begins again with the average cloud cover for Febfuary in the 0 degrees latitude, 0 degrees longitude box and so on. "
   ]
  },
  {
   "cell_type": "code",
   "execution_count": 124,
   "metadata": {
    "collapsed": false
   },
   "outputs": [],
   "source": [
    "# First, I'm loading the raw cloud cover data.\n",
    "cloud_dat = pd.read_csv('../../data/weather.txt',sep='\\s+')"
   ]
  },
  {
   "cell_type": "code",
   "execution_count": 125,
   "metadata": {
    "collapsed": false
   },
   "outputs": [
    {
     "data": {
      "text/plain": [
       "(1, 124416)"
      ]
     },
     "execution_count": 125,
     "metadata": {},
     "output_type": "execute_result"
    }
   ],
   "source": [
    "# Right now the data is in 1 row and 124416 columns, so it requires some \n",
    "# cleaning up\n",
    "cloud_dat.shape"
   ]
  },
  {
   "cell_type": "code",
   "execution_count": 126,
   "metadata": {
    "collapsed": false
   },
   "outputs": [
    {
     "data": {
      "text/plain": [
       "(124416, 1)"
      ]
     },
     "execution_count": 126,
     "metadata": {},
     "output_type": "execute_result"
    }
   ],
   "source": [
    "# After transposing, the data is in 1 column and 124416 rows\n",
    "cloud_dat = cloud_dat.transpose()\n",
    "cloud_dat.shape"
   ]
  },
  {
   "cell_type": "code",
   "execution_count": 129,
   "metadata": {
    "collapsed": false
   },
   "outputs": [],
   "source": [
    "# Now I will change the name of the column of data and reset the index\n",
    "cloud_dat.columns=['cloud_cover']\n",
    "cloud_dat = cloud_dat.reset_index()\n",
    "del cloud_dat['index']\n",
    "cloud_data = (cloud_dat/100)*.8"
   ]
  },
  {
   "cell_type": "code",
   "execution_count": 130,
   "metadata": {
    "collapsed": false
   },
   "outputs": [
    {
     "data": {
      "text/html": [
       "<div>\n",
       "<table border=\"1\" class=\"dataframe\">\n",
       "  <thead>\n",
       "    <tr style=\"text-align: right;\">\n",
       "      <th></th>\n",
       "      <th>cloud_cover</th>\n",
       "    </tr>\n",
       "  </thead>\n",
       "  <tbody>\n",
       "    <tr>\n",
       "      <th>0</th>\n",
       "      <td>0.25184</td>\n",
       "    </tr>\n",
       "    <tr>\n",
       "      <th>1</th>\n",
       "      <td>0.25184</td>\n",
       "    </tr>\n",
       "    <tr>\n",
       "      <th>2</th>\n",
       "      <td>0.25184</td>\n",
       "    </tr>\n",
       "    <tr>\n",
       "      <th>3</th>\n",
       "      <td>0.25184</td>\n",
       "    </tr>\n",
       "    <tr>\n",
       "      <th>4</th>\n",
       "      <td>0.25184</td>\n",
       "    </tr>\n",
       "    <tr>\n",
       "      <th>5</th>\n",
       "      <td>0.25184</td>\n",
       "    </tr>\n",
       "    <tr>\n",
       "      <th>6</th>\n",
       "      <td>0.25184</td>\n",
       "    </tr>\n",
       "    <tr>\n",
       "      <th>...</th>\n",
       "      <td>...</td>\n",
       "    </tr>\n",
       "    <tr>\n",
       "      <th>124409</th>\n",
       "      <td>0.57216</td>\n",
       "    </tr>\n",
       "    <tr>\n",
       "      <th>124410</th>\n",
       "      <td>0.57216</td>\n",
       "    </tr>\n",
       "    <tr>\n",
       "      <th>124411</th>\n",
       "      <td>0.57216</td>\n",
       "    </tr>\n",
       "    <tr>\n",
       "      <th>124412</th>\n",
       "      <td>0.57216</td>\n",
       "    </tr>\n",
       "    <tr>\n",
       "      <th>124413</th>\n",
       "      <td>0.57216</td>\n",
       "    </tr>\n",
       "    <tr>\n",
       "      <th>124414</th>\n",
       "      <td>0.57216</td>\n",
       "    </tr>\n",
       "    <tr>\n",
       "      <th>124415</th>\n",
       "      <td>0.57216</td>\n",
       "    </tr>\n",
       "  </tbody>\n",
       "</table>\n",
       "<p>124416 rows × 1 columns</p>\n",
       "</div>"
      ],
      "text/plain": [
       "        cloud_cover\n",
       "0           0.25184\n",
       "1           0.25184\n",
       "2           0.25184\n",
       "3           0.25184\n",
       "4           0.25184\n",
       "5           0.25184\n",
       "6           0.25184\n",
       "...             ...\n",
       "124409      0.57216\n",
       "124410      0.57216\n",
       "124411      0.57216\n",
       "124412      0.57216\n",
       "124413      0.57216\n",
       "124414      0.57216\n",
       "124415      0.57216\n",
       "\n",
       "[124416 rows x 1 columns]"
      ]
     },
     "execution_count": 130,
     "metadata": {},
     "output_type": "execute_result"
    }
   ],
   "source": [
    "# Here is a glimpse of what the data looks like now\n",
    "cloud_data"
   ]
  },
  {
   "cell_type": "code",
   "execution_count": 131,
   "metadata": {
    "collapsed": false
   },
   "outputs": [
    {
     "data": {
      "text/html": [
       "<div>\n",
       "<table border=\"1\" class=\"dataframe\">\n",
       "  <thead>\n",
       "    <tr style=\"text-align: right;\">\n",
       "      <th></th>\n",
       "      <th>month</th>\n",
       "      <th>lattitude</th>\n",
       "      <th>longitude</th>\n",
       "    </tr>\n",
       "  </thead>\n",
       "  <tbody>\n",
       "    <tr>\n",
       "      <th>0</th>\n",
       "      <td>1</td>\n",
       "      <td>-90.0</td>\n",
       "      <td>-180.0</td>\n",
       "    </tr>\n",
       "    <tr>\n",
       "      <th>1</th>\n",
       "      <td>1</td>\n",
       "      <td>-90.0</td>\n",
       "      <td>-177.5</td>\n",
       "    </tr>\n",
       "    <tr>\n",
       "      <th>2</th>\n",
       "      <td>1</td>\n",
       "      <td>-90.0</td>\n",
       "      <td>-175.0</td>\n",
       "    </tr>\n",
       "    <tr>\n",
       "      <th>3</th>\n",
       "      <td>1</td>\n",
       "      <td>-90.0</td>\n",
       "      <td>-172.5</td>\n",
       "    </tr>\n",
       "    <tr>\n",
       "      <th>4</th>\n",
       "      <td>1</td>\n",
       "      <td>-90.0</td>\n",
       "      <td>-170.0</td>\n",
       "    </tr>\n",
       "    <tr>\n",
       "      <th>5</th>\n",
       "      <td>1</td>\n",
       "      <td>-90.0</td>\n",
       "      <td>-167.5</td>\n",
       "    </tr>\n",
       "    <tr>\n",
       "      <th>6</th>\n",
       "      <td>1</td>\n",
       "      <td>-90.0</td>\n",
       "      <td>-165.0</td>\n",
       "    </tr>\n",
       "    <tr>\n",
       "      <th>...</th>\n",
       "      <td>...</td>\n",
       "      <td>...</td>\n",
       "      <td>...</td>\n",
       "    </tr>\n",
       "    <tr>\n",
       "      <th>124409</th>\n",
       "      <td>12</td>\n",
       "      <td>87.5</td>\n",
       "      <td>162.5</td>\n",
       "    </tr>\n",
       "    <tr>\n",
       "      <th>124410</th>\n",
       "      <td>12</td>\n",
       "      <td>87.5</td>\n",
       "      <td>165.0</td>\n",
       "    </tr>\n",
       "    <tr>\n",
       "      <th>124411</th>\n",
       "      <td>12</td>\n",
       "      <td>87.5</td>\n",
       "      <td>167.5</td>\n",
       "    </tr>\n",
       "    <tr>\n",
       "      <th>124412</th>\n",
       "      <td>12</td>\n",
       "      <td>87.5</td>\n",
       "      <td>170.0</td>\n",
       "    </tr>\n",
       "    <tr>\n",
       "      <th>124413</th>\n",
       "      <td>12</td>\n",
       "      <td>87.5</td>\n",
       "      <td>172.5</td>\n",
       "    </tr>\n",
       "    <tr>\n",
       "      <th>124414</th>\n",
       "      <td>12</td>\n",
       "      <td>87.5</td>\n",
       "      <td>175.0</td>\n",
       "    </tr>\n",
       "    <tr>\n",
       "      <th>124415</th>\n",
       "      <td>12</td>\n",
       "      <td>87.5</td>\n",
       "      <td>177.5</td>\n",
       "    </tr>\n",
       "  </tbody>\n",
       "</table>\n",
       "<p>124416 rows × 3 columns</p>\n",
       "</div>"
      ],
      "text/plain": [
       "        month  lattitude  longitude\n",
       "0           1      -90.0     -180.0\n",
       "1           1      -90.0     -177.5\n",
       "2           1      -90.0     -175.0\n",
       "3           1      -90.0     -172.5\n",
       "4           1      -90.0     -170.0\n",
       "5           1      -90.0     -167.5\n",
       "6           1      -90.0     -165.0\n",
       "...       ...        ...        ...\n",
       "124409     12       87.5      162.5\n",
       "124410     12       87.5      165.0\n",
       "124411     12       87.5      167.5\n",
       "124412     12       87.5      170.0\n",
       "124413     12       87.5      172.5\n",
       "124414     12       87.5      175.0\n",
       "124415     12       87.5      177.5\n",
       "\n",
       "[124416 rows x 3 columns]"
      ]
     },
     "execution_count": 131,
     "metadata": {},
     "output_type": "execute_result"
    }
   ],
   "source": [
    "# Next, I load a dataframe that I created in excel with three columns \n",
    "# (month, lattitude, and longitude) that have been filled in to line up \n",
    "# with the 'data' object.  \n",
    "clouds = pd.read_excel('../../data/blank_weather.xlsx',sep='\\s+')\n",
    "clouds"
   ]
  },
  {
   "cell_type": "code",
   "execution_count": 132,
   "metadata": {
    "collapsed": false
   },
   "outputs": [
    {
     "data": {
      "text/html": [
       "<div>\n",
       "<table border=\"1\" class=\"dataframe\">\n",
       "  <thead>\n",
       "    <tr style=\"text-align: right;\">\n",
       "      <th></th>\n",
       "      <th>month</th>\n",
       "      <th>lattitude</th>\n",
       "      <th>longitude</th>\n",
       "      <th>cloud_cover</th>\n",
       "    </tr>\n",
       "  </thead>\n",
       "  <tbody>\n",
       "    <tr>\n",
       "      <th>0</th>\n",
       "      <td>1</td>\n",
       "      <td>-90.0</td>\n",
       "      <td>-180.0</td>\n",
       "      <td>0.25184</td>\n",
       "    </tr>\n",
       "    <tr>\n",
       "      <th>1</th>\n",
       "      <td>1</td>\n",
       "      <td>-90.0</td>\n",
       "      <td>-177.5</td>\n",
       "      <td>0.25184</td>\n",
       "    </tr>\n",
       "    <tr>\n",
       "      <th>2</th>\n",
       "      <td>1</td>\n",
       "      <td>-90.0</td>\n",
       "      <td>-175.0</td>\n",
       "      <td>0.25184</td>\n",
       "    </tr>\n",
       "    <tr>\n",
       "      <th>3</th>\n",
       "      <td>1</td>\n",
       "      <td>-90.0</td>\n",
       "      <td>-172.5</td>\n",
       "      <td>0.25184</td>\n",
       "    </tr>\n",
       "    <tr>\n",
       "      <th>4</th>\n",
       "      <td>1</td>\n",
       "      <td>-90.0</td>\n",
       "      <td>-170.0</td>\n",
       "      <td>0.25184</td>\n",
       "    </tr>\n",
       "    <tr>\n",
       "      <th>5</th>\n",
       "      <td>1</td>\n",
       "      <td>-90.0</td>\n",
       "      <td>-167.5</td>\n",
       "      <td>0.25184</td>\n",
       "    </tr>\n",
       "    <tr>\n",
       "      <th>6</th>\n",
       "      <td>1</td>\n",
       "      <td>-90.0</td>\n",
       "      <td>-165.0</td>\n",
       "      <td>0.25184</td>\n",
       "    </tr>\n",
       "    <tr>\n",
       "      <th>...</th>\n",
       "      <td>...</td>\n",
       "      <td>...</td>\n",
       "      <td>...</td>\n",
       "      <td>...</td>\n",
       "    </tr>\n",
       "    <tr>\n",
       "      <th>124409</th>\n",
       "      <td>12</td>\n",
       "      <td>87.5</td>\n",
       "      <td>162.5</td>\n",
       "      <td>0.57216</td>\n",
       "    </tr>\n",
       "    <tr>\n",
       "      <th>124410</th>\n",
       "      <td>12</td>\n",
       "      <td>87.5</td>\n",
       "      <td>165.0</td>\n",
       "      <td>0.57216</td>\n",
       "    </tr>\n",
       "    <tr>\n",
       "      <th>124411</th>\n",
       "      <td>12</td>\n",
       "      <td>87.5</td>\n",
       "      <td>167.5</td>\n",
       "      <td>0.57216</td>\n",
       "    </tr>\n",
       "    <tr>\n",
       "      <th>124412</th>\n",
       "      <td>12</td>\n",
       "      <td>87.5</td>\n",
       "      <td>170.0</td>\n",
       "      <td>0.57216</td>\n",
       "    </tr>\n",
       "    <tr>\n",
       "      <th>124413</th>\n",
       "      <td>12</td>\n",
       "      <td>87.5</td>\n",
       "      <td>172.5</td>\n",
       "      <td>0.57216</td>\n",
       "    </tr>\n",
       "    <tr>\n",
       "      <th>124414</th>\n",
       "      <td>12</td>\n",
       "      <td>87.5</td>\n",
       "      <td>175.0</td>\n",
       "      <td>0.57216</td>\n",
       "    </tr>\n",
       "    <tr>\n",
       "      <th>124415</th>\n",
       "      <td>12</td>\n",
       "      <td>87.5</td>\n",
       "      <td>177.5</td>\n",
       "      <td>0.57216</td>\n",
       "    </tr>\n",
       "  </tbody>\n",
       "</table>\n",
       "<p>124416 rows × 4 columns</p>\n",
       "</div>"
      ],
      "text/plain": [
       "        month  lattitude  longitude  cloud_cover\n",
       "0           1      -90.0     -180.0      0.25184\n",
       "1           1      -90.0     -177.5      0.25184\n",
       "2           1      -90.0     -175.0      0.25184\n",
       "3           1      -90.0     -172.5      0.25184\n",
       "4           1      -90.0     -170.0      0.25184\n",
       "5           1      -90.0     -167.5      0.25184\n",
       "6           1      -90.0     -165.0      0.25184\n",
       "...       ...        ...        ...          ...\n",
       "124409     12       87.5      162.5      0.57216\n",
       "124410     12       87.5      165.0      0.57216\n",
       "124411     12       87.5      167.5      0.57216\n",
       "124412     12       87.5      170.0      0.57216\n",
       "124413     12       87.5      172.5      0.57216\n",
       "124414     12       87.5      175.0      0.57216\n",
       "124415     12       87.5      177.5      0.57216\n",
       "\n",
       "[124416 rows x 4 columns]"
      ]
     },
     "execution_count": 132,
     "metadata": {},
     "output_type": "execute_result"
    }
   ],
   "source": [
    "# Now, we will add a fourth column to 'clouds' that is our data\n",
    "clouds['cloud_cover'] = cloud_data['cloud_cover']\n",
    "clouds"
   ]
  },
  {
   "cell_type": "markdown",
   "metadata": {},
   "source": [
    "Now, 'clouds' is a nice looking dataframe that includes lattitude, longitude, and average cloud cover for every month and the entire world"
   ]
  },
  {
   "cell_type": "markdown",
   "metadata": {},
   "source": [
    "Now I will make a function that takes lattitude and longitude as an input and returns cloud_cover for each month as an output"
   ]
  },
  {
   "cell_type": "code",
   "execution_count": 133,
   "metadata": {
    "collapsed": false
   },
   "outputs": [],
   "source": [
    "def find_cloud(lat,long):\n",
    "    x = clouds.loc[(clouds['lattitude'] <= lat) & (clouds['lattitude'] > (lat-2.5)) & (clouds['longitude'] <= long) & (clouds['longitude'] > (long-2.5))]\n",
    "    return(x)"
   ]
  },
  {
   "cell_type": "code",
   "execution_count": 134,
   "metadata": {
    "collapsed": false
   },
   "outputs": [],
   "source": [
    "squam = find_cloud(49,-123)"
   ]
  },
  {
   "cell_type": "code",
   "execution_count": 135,
   "metadata": {
    "collapsed": false
   },
   "outputs": [
    {
     "data": {
      "text/html": [
       "<div>\n",
       "<table border=\"1\" class=\"dataframe\">\n",
       "  <thead>\n",
       "    <tr style=\"text-align: right;\">\n",
       "      <th></th>\n",
       "      <th>month</th>\n",
       "      <th>lattitude</th>\n",
       "      <th>longitude</th>\n",
       "      <th>cloud_cover</th>\n",
       "    </tr>\n",
       "  </thead>\n",
       "  <tbody>\n",
       "    <tr>\n",
       "      <th>7942</th>\n",
       "      <td>1</td>\n",
       "      <td>47.5</td>\n",
       "      <td>-125</td>\n",
       "      <td>0.62000</td>\n",
       "    </tr>\n",
       "    <tr>\n",
       "      <th>18310</th>\n",
       "      <td>2</td>\n",
       "      <td>47.5</td>\n",
       "      <td>-125</td>\n",
       "      <td>0.58688</td>\n",
       "    </tr>\n",
       "    <tr>\n",
       "      <th>28678</th>\n",
       "      <td>3</td>\n",
       "      <td>47.5</td>\n",
       "      <td>-125</td>\n",
       "      <td>0.60448</td>\n",
       "    </tr>\n",
       "    <tr>\n",
       "      <th>39046</th>\n",
       "      <td>4</td>\n",
       "      <td>47.5</td>\n",
       "      <td>-125</td>\n",
       "      <td>0.59792</td>\n",
       "    </tr>\n",
       "    <tr>\n",
       "      <th>49414</th>\n",
       "      <td>5</td>\n",
       "      <td>47.5</td>\n",
       "      <td>-125</td>\n",
       "      <td>0.59392</td>\n",
       "    </tr>\n",
       "    <tr>\n",
       "      <th>59782</th>\n",
       "      <td>6</td>\n",
       "      <td>47.5</td>\n",
       "      <td>-125</td>\n",
       "      <td>0.58688</td>\n",
       "    </tr>\n",
       "    <tr>\n",
       "      <th>70150</th>\n",
       "      <td>7</td>\n",
       "      <td>47.5</td>\n",
       "      <td>-125</td>\n",
       "      <td>0.49328</td>\n",
       "    </tr>\n",
       "    <tr>\n",
       "      <th>80518</th>\n",
       "      <td>8</td>\n",
       "      <td>47.5</td>\n",
       "      <td>-125</td>\n",
       "      <td>0.46224</td>\n",
       "    </tr>\n",
       "    <tr>\n",
       "      <th>90886</th>\n",
       "      <td>9</td>\n",
       "      <td>47.5</td>\n",
       "      <td>-125</td>\n",
       "      <td>0.44544</td>\n",
       "    </tr>\n",
       "    <tr>\n",
       "      <th>101254</th>\n",
       "      <td>10</td>\n",
       "      <td>47.5</td>\n",
       "      <td>-125</td>\n",
       "      <td>0.55936</td>\n",
       "    </tr>\n",
       "    <tr>\n",
       "      <th>111622</th>\n",
       "      <td>11</td>\n",
       "      <td>47.5</td>\n",
       "      <td>-125</td>\n",
       "      <td>0.62864</td>\n",
       "    </tr>\n",
       "    <tr>\n",
       "      <th>121990</th>\n",
       "      <td>12</td>\n",
       "      <td>47.5</td>\n",
       "      <td>-125</td>\n",
       "      <td>0.62544</td>\n",
       "    </tr>\n",
       "  </tbody>\n",
       "</table>\n",
       "</div>"
      ],
      "text/plain": [
       "        month  lattitude  longitude  cloud_cover\n",
       "7942        1       47.5       -125      0.62000\n",
       "18310       2       47.5       -125      0.58688\n",
       "28678       3       47.5       -125      0.60448\n",
       "39046       4       47.5       -125      0.59792\n",
       "49414       5       47.5       -125      0.59392\n",
       "59782       6       47.5       -125      0.58688\n",
       "70150       7       47.5       -125      0.49328\n",
       "80518       8       47.5       -125      0.46224\n",
       "90886       9       47.5       -125      0.44544\n",
       "101254     10       47.5       -125      0.55936\n",
       "111622     11       47.5       -125      0.62864\n",
       "121990     12       47.5       -125      0.62544"
      ]
     },
     "execution_count": 135,
     "metadata": {},
     "output_type": "execute_result"
    }
   ],
   "source": [
    "squam"
   ]
  },
  {
   "cell_type": "code",
   "execution_count": 105,
   "metadata": {
    "collapsed": true
   },
   "outputs": [],
   "source": [
    "Watts_By_Hour = pd.DataFrame(Watts_Every_Hour)"
   ]
  },
  {
   "cell_type": "code",
   "execution_count": 156,
   "metadata": {
    "collapsed": false
   },
   "outputs": [],
   "source": [
    "jan = Watts_By_Hour.iloc[:730,0]*squam.iloc[0,3]\n",
    "feb = Watts_By_Hour.iloc[730:1460,0]*squam.iloc[1,3]"
   ]
  },
  {
   "cell_type": "code",
   "execution_count": 157,
   "metadata": {
    "collapsed": false
   },
   "outputs": [],
   "source": []
  }
 ],
 "metadata": {
  "kernelspec": {
   "display_name": "Python 3",
   "language": "python",
   "name": "python3"
  },
  "language_info": {
   "codemirror_mode": {
    "name": "ipython",
    "version": 3
   },
   "file_extension": ".py",
   "mimetype": "text/x-python",
   "name": "python",
   "nbconvert_exporter": "python",
   "pygments_lexer": "ipython3",
   "version": "3.4.3"
  }
 },
 "nbformat": 4,
 "nbformat_minor": 0
}
