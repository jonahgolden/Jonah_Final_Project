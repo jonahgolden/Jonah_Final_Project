{
 "cells": [
  {
   "cell_type": "code",
   "execution_count": 3,
   "metadata": {
    "collapsed": false
   },
   "outputs": [],
   "source": [
    "# Import Libraries\n",
    "\n",
    "import numpy as np\n",
    "import sympy as sp\n",
    "from sympy import *\n",
    "x, y, z, t, Day_Of_Year  = symbols('x y z t Day_Of_Year')\n",
    "import pandas as pd\n",
    "from pandas import set_option # Option to restrict display\n",
    "set_option('display.max_rows',15)\n",
    "import matplotlib.pyplot as plt\n",
    "%matplotlib inline"
   ]
  },
  {
   "cell_type": "code",
   "execution_count": 4,
   "metadata": {
    "collapsed": false
   },
   "outputs": [],
   "source": [
    "# Defining constants\n",
    "S0 = 1367.63 # Solar constant\n",
    "Dis_n = [0,1,2]\n",
    "Dis_an = [1.00011,0.034221,0.000719]\n",
    "Dis_bn = [0,0.00128,0.000077]\n",
    "Dec_n = [0,1,2,3]\n",
    "Dec_an = [0.006918,-0.399912,-0.006758,-0.002697]\n",
    "Dec_bn = [0,0.070257,0.000907,0.00148]\n",
    "Lattitude = 49.7\n",
    "Area = 1.6368 # Area in m^2 that is to be covered by solar panels. 1.6368 for 255 W panel\n",
    "Atm = .75 # Proportion of solar energy that makes it to the earth's surface\n",
    "Panel_Efficiency = .16 # Efficiency of solar panels in converting solar energy to electricity\n",
    "radiation_through_clouds = 0.7"
   ]
  },
  {
   "cell_type": "markdown",
   "metadata": {
    "collapsed": false
   },
   "source": [
    "First, I'm going to define a function that will print the power (watts per square meter)that the earth would receive from the sun if there were no atmosphere."
   ]
  },
  {
   "cell_type": "code",
   "execution_count": 5,
   "metadata": {
    "collapsed": true
   },
   "outputs": [],
   "source": [
    "def Solar_Power_Calculator(Day_Of_Year,Lattitude,Hour_of_Day):\n",
    "    '''This function will '''\n",
    "    # Calculating Theta D\n",
    "    ThetaD = (2*np.pi*Day_Of_Year)/365\n",
    "    # Calculating distance\n",
    "    # Constants for calculating distance\n",
    "    Dis_n = [0,1,2]\n",
    "    Dis_an = [1.00011,0.034221,0.000719]\n",
    "    Dis_bn = [0,0.00128,0.000077]\n",
    "\n",
    "    Dis1 = Dis_an[0]*np.cos(Dis_n[0]*ThetaD)+Dis_bn[0]*np.sin(Dis_n[0]*ThetaD)\n",
    "    Dis2 = Dis_an[1]*np.cos(Dis_n[1]*ThetaD)+Dis_bn[1]*np.sin(Dis_n[1]*ThetaD)\n",
    "    Dis3 = Dis_an[2]*np.cos(Dis_n[2]*ThetaD)+Dis_bn[2]*np.sin(Dis_n[2]*ThetaD)\n",
    "\n",
    "    # Calculate Distance\n",
    "    Distance = Dis1+Dis2+Dis3\n",
    "\n",
    "    # Constants for calculating declination\n",
    "    Dec_n = [0,1,2,3]\n",
    "    Dec_an = [0.006918,-0.399912,-0.006758,-0.002697]\n",
    "    Dec_bn = [0,0.070257,0.000907,0.00148]\n",
    "\n",
    "    Dec1 = Dec_an[0]*np.cos(Dec_n[0]*ThetaD)+Dec_bn[0]*np.sin(Dec_n[0]*ThetaD)\n",
    "    Dec2 = Dec_an[1]*np.cos(Dec_n[1]*ThetaD)+Dec_bn[1]*np.sin(Dec_n[1]*ThetaD)\n",
    "    Dec3 = Dec_an[2]*np.cos(Dec_n[2]*ThetaD)+Dec_bn[2]*np.sin(Dec_n[2]*ThetaD)\n",
    "    Dec4 = Dec_an[3]*np.cos(Dec_n[3]*ThetaD)+Dec_bn[3]*np.sin(Dec_n[3]*ThetaD)\n",
    "\n",
    "\n",
    "    # Calculate Dec_radians\n",
    "    Dec_radians = Dec1+Dec2+Dec3+Dec4\n",
    "    Dec_degrees = np.degrees(Dec_radians)\n",
    "\n",
    "    # For Hour Angle\n",
    "    Hour_angle = np.radians(Hour_of_Day*15)\n",
    "\n",
    "    # For Radians and Cos Solar Zenith Angle\n",
    "    radians = np.pi/180*Lattitude\n",
    "    CSZA = np.sin(radians)*np.sin(Dec_radians)+np.cos(radians)*np.cos(Dec_radians)*np.cos(Hour_angle)# Cos Solar Zenith Angle\n",
    "\n",
    "    # Calculate Energy/Area (W/m^2)\n",
    "    Watts_Per_SqMeter = S0*Distance*CSZA\n",
    "\n",
    "    return(Watts_Per_SqMeter)"
   ]
  },
  {
   "cell_type": "code",
   "execution_count": 6,
   "metadata": {
    "collapsed": false
   },
   "outputs": [
    {
     "data": {
      "text/plain": [
       "474.11127637978012"
      ]
     },
     "execution_count": 6,
     "metadata": {},
     "output_type": "execute_result"
    }
   ],
   "source": [
    "Solar_Power_Calculator(17,49.7,0)"
   ]
  },
  {
   "cell_type": "markdown",
   "metadata": {},
   "source": [
    "Now I'm going to take the above function and do the same thing except make it print the number of Wh in one square meter for a year."
   ]
  },
  {
   "cell_type": "code",
   "execution_count": 7,
   "metadata": {
    "collapsed": false
   },
   "outputs": [
    {
     "data": {
      "text/plain": [
       "365"
      ]
     },
     "execution_count": 7,
     "metadata": {},
     "output_type": "execute_result"
    }
   ],
   "source": [
    "# Making a list called total of Theta D for every day of the year\n",
    "year = list(range(1,366))\n",
    "ThetaD_list = []\n",
    "for i in year:\n",
    "    ThetaD_list.append((2*np.pi*i)/365)\n",
    "len(ThetaD_list)"
   ]
  },
  {
   "cell_type": "code",
   "execution_count": 8,
   "metadata": {
    "collapsed": false
   },
   "outputs": [],
   "source": [
    "def Solar_Energy_Calculator(lattitude, panel_efficiency, area):\n",
    "    '''This function calculates the energy that can be generated in any given place in the \n",
    "    world over one year sans clouds.  \n",
    "    Inputs: lattitude, panel_efficiency (a number between 0 and 1), and area (of solar panels\n",
    "    in square meters).'''\n",
    "    # Making Distance and Dec_radians lists for each day of the year\n",
    "    radians = np.pi/180*lattitude\n",
    "    Hours = [12,11,10,9,8,7,6,5,4,3,2,1,0,1,2,3,4,5,6,7,8,9,10,11] # A list of all the hours of the day\n",
    "    Solar_Flux = 0 # Energy generated from given area of solar panels in one hour\n",
    "    Watts_Every_Hour = [] # A list that will become the Wh/m^2 every hour for a year\n",
    "    kWh = 0 # A number that will become the total kWh in one place in one year.\n",
    "    for i in ThetaD_list:\n",
    "        # Calculate the Distance\n",
    "        Dis1 = Dis_an[0]*np.cos(Dis_n[0]*i)+Dis_bn[0]*np.sin(Dis_n[0]*i)\n",
    "        Dis2 = Dis_an[1]*np.cos(Dis_n[1]*i)+Dis_bn[1]*np.sin(Dis_n[1]*i)\n",
    "        Dis3 = Dis_an[2]*np.cos(Dis_n[2]*i)+Dis_bn[2]*np.sin(Dis_n[2]*i)\n",
    "        Distance = Dis1+Dis2+Dis3\n",
    "        # Calculate the Declination\n",
    "        Dec1 = Dec_an[0]*np.cos(Dec_n[0]*i)+Dec_bn[0]*np.sin(Dec_n[0]*i)\n",
    "        Dec2 = Dec_an[1]*np.cos(Dec_n[1]*i)+Dec_bn[1]*np.sin(Dec_n[1]*i)\n",
    "        Dec3 = Dec_an[2]*np.cos(Dec_n[2]*i)+Dec_bn[2]*np.sin(Dec_n[2]*i)\n",
    "        Dec4 = Dec_an[3]*np.cos(Dec_n[3]*i)+Dec_bn[3]*np.sin(Dec_n[3]*i)\n",
    "        Dec_radians = Dec1+Dec2+Dec3+Dec4\n",
    "        Dec_degrees = (np.degrees(Dec_radians))\n",
    "        for i in Hours:\n",
    "            Hour_angle = np.radians(i*15)\n",
    "            CSZA = (np.sin(radians)*np.sin(Dec_radians)) + (np.cos(radians)*np.cos(Dec_radians)*np.cos(Hour_angle))\n",
    "            if CSZA < 0:\n",
    "                CSZA = 0\n",
    "            Solar_Flux = (S0)*Distance*CSZA*Atm*panel_efficiency*area\n",
    "            Watts_Every_Hour.append(Solar_Flux)\n",
    "    kWh = sum(Watts_Every_Hour)/1000\n",
    "    return(Watts_Every_Hour)"
   ]
  },
  {
   "cell_type": "code",
   "execution_count": null,
   "metadata": {
    "collapsed": false
   },
   "outputs": [],
   "source": []
  },
  {
   "cell_type": "markdown",
   "metadata": {
    "collapsed": true
   },
   "source": [
    "# Loading Cloud Data"
   ]
  },
  {
   "cell_type": "markdown",
   "metadata": {},
   "source": [
    "The cloud cover data I am using is International Satellite Cloud Climatology Project (ISCCP). To understand this data in its raw form, visualize a map of the world overlayed by a grid of squares.  Each square is 2.5 degrees in width and height, so the grid is 144 x 72 (longitude x latitude) and has a total of 10368 squares. Each number in the data is the average annual cloud cover percentage for a single square. The first number represents average cloud cover  in the -90 degrees latitude, -180 degrees longitude box. Longitude varies first, and begins at -180 degrees and proceeds eastward to +180 degrees. Latitude begins at -90 degrees and proceeds northward to +90 degrees."
   ]
  },
  {
   "cell_type": "code",
   "execution_count": 9,
   "metadata": {
    "collapsed": false
   },
   "outputs": [],
   "source": [
    "# First, I'm loading the raw cloud cover data.\n",
    "cloud_dat = pd.read_csv('../../data/weather.txt',sep='\\s+')"
   ]
  },
  {
   "cell_type": "code",
   "execution_count": 10,
   "metadata": {
    "collapsed": false
   },
   "outputs": [
    {
     "data": {
      "text/html": [
       "<div>\n",
       "<table border=\"1\" class=\"dataframe\">\n",
       "  <thead>\n",
       "    <tr style=\"text-align: right;\">\n",
       "      <th></th>\n",
       "      <th>000048.818</th>\n",
       "      <th>000048.818.1</th>\n",
       "      <th>000048.818.2</th>\n",
       "      <th>000048.818.3</th>\n",
       "      <th>000048.818.4</th>\n",
       "      <th>000048.818.5</th>\n",
       "      <th>000048.818.6</th>\n",
       "      <th>000048.818.7</th>\n",
       "      <th>000048.818.8</th>\n",
       "      <th>000048.818.9</th>\n",
       "      <th>...</th>\n",
       "      <th>000065.317.39</th>\n",
       "      <th>000065.317.40</th>\n",
       "      <th>000065.317.41</th>\n",
       "      <th>000065.317.42</th>\n",
       "      <th>000065.317.43</th>\n",
       "      <th>000065.317.44</th>\n",
       "      <th>000065.317.45</th>\n",
       "      <th>000065.317.46</th>\n",
       "      <th>000065.317.47</th>\n",
       "      <th>000065.317.48</th>\n",
       "    </tr>\n",
       "  </thead>\n",
       "  <tbody>\n",
       "  </tbody>\n",
       "</table>\n",
       "<p>0 rows × 10368 columns</p>\n",
       "</div>"
      ],
      "text/plain": [
       "Empty DataFrame\n",
       "Columns: [000048.818, 000048.818.1, 000048.818.2, 000048.818.3, 000048.818.4, 000048.818.5, 000048.818.6, 000048.818.7, 000048.818.8, 000048.818.9, 000048.818.10, 000048.818.11, 000048.818.12, 000048.818.13, 000048.818.14, 000048.818.15, 000048.818.16, 000048.818.17, 000048.818.18, 000048.818.19, 000048.818.20, 000048.818.21, 000048.818.22, 000048.818.23, 000045.198, 000045.198.1, 000045.198.2, 000045.198.3, 000045.198.4, 000045.198.5, 000045.198.6, 000045.198.7, 000045.198.8, 000045.198.9, 000045.198.10, 000045.198.11, 000045.198.12, 000045.198.13, 000045.198.14, 000045.198.15, 000045.198.16, 000045.198.17, 000045.198.18, 000045.198.19, 000045.198.20, 000045.198.21, 000045.198.22, 000045.198.23, 000045.198.24, 000045.198.25, 000045.198.26, 000045.198.27, 000045.198.28, 000045.198.29, 000045.198.30, 000045.198.31, 000045.198.32, 000045.198.33, 000045.198.34, 000045.198.35, 000045.198.36, 000045.198.37, 000045.198.38, 000045.198.39, 000045.198.40, 000045.198.41, 000045.198.42, 000045.198.43, 000045.198.44, 000045.198.45, 000045.198.46, 000045.198.47, 000044.488, 000044.488.1, 000044.488.2, 000044.488.3, 000044.488.4, 000044.488.5, 000044.488.6, 000044.488.7, 000044.488.8, 000044.488.9, 000044.488.10, 000044.488.11, 000044.488.12, 000044.488.13, 000044.488.14, 000044.488.15, 000044.488.16, 000044.488.17, 000044.488.18, 000044.488.19, 000044.488.20, 000044.488.21, 000044.488.22, 000044.488.23, 000044.488.24, 000044.488.25, 000044.488.26, 000044.488.27, ...]\n",
       "Index: []\n",
       "\n",
       "[0 rows x 10368 columns]"
      ]
     },
     "execution_count": 10,
     "metadata": {},
     "output_type": "execute_result"
    }
   ],
   "source": [
    "cloud_dat"
   ]
  },
  {
   "cell_type": "code",
   "execution_count": 11,
   "metadata": {
    "collapsed": false
   },
   "outputs": [
    {
     "data": {
      "text/plain": [
       "(0, 10368)"
      ]
     },
     "execution_count": 11,
     "metadata": {},
     "output_type": "execute_result"
    }
   ],
   "source": [
    "# Right now the data is in 1 row and 10368 columns, so it requires some \n",
    "# cleaning up\n",
    "cloud_dat.shape"
   ]
  },
  {
   "cell_type": "code",
   "execution_count": 12,
   "metadata": {
    "collapsed": false
   },
   "outputs": [
    {
     "data": {
      "text/plain": [
       "(10368, 0)"
      ]
     },
     "execution_count": 12,
     "metadata": {},
     "output_type": "execute_result"
    }
   ],
   "source": [
    "# After transposing, the data is in 1 column and 10368 rows\n",
    "cloud_dat = cloud_dat.transpose()\n",
    "cloud_dat.shape"
   ]
  },
  {
   "cell_type": "code",
   "execution_count": 13,
   "metadata": {
    "collapsed": false
   },
   "outputs": [
    {
     "data": {
      "text/html": [
       "<div>\n",
       "<table border=\"1\" class=\"dataframe\">\n",
       "  <thead>\n",
       "    <tr style=\"text-align: right;\">\n",
       "      <th></th>\n",
       "      <th>cloud_ratio</th>\n",
       "    </tr>\n",
       "  </thead>\n",
       "  <tbody>\n",
       "    <tr>\n",
       "      <th>0</th>\n",
       "      <td>000048.818</td>\n",
       "    </tr>\n",
       "    <tr>\n",
       "      <th>1</th>\n",
       "      <td>000048.818.1</td>\n",
       "    </tr>\n",
       "    <tr>\n",
       "      <th>2</th>\n",
       "      <td>000048.818.2</td>\n",
       "    </tr>\n",
       "    <tr>\n",
       "      <th>3</th>\n",
       "      <td>000048.818.3</td>\n",
       "    </tr>\n",
       "    <tr>\n",
       "      <th>4</th>\n",
       "      <td>000048.818.4</td>\n",
       "    </tr>\n",
       "    <tr>\n",
       "      <th>5</th>\n",
       "      <td>000048.818.5</td>\n",
       "    </tr>\n",
       "    <tr>\n",
       "      <th>6</th>\n",
       "      <td>000048.818.6</td>\n",
       "    </tr>\n",
       "    <tr>\n",
       "      <th>...</th>\n",
       "      <td>...</td>\n",
       "    </tr>\n",
       "    <tr>\n",
       "      <th>10361</th>\n",
       "      <td>000065.317.42</td>\n",
       "    </tr>\n",
       "    <tr>\n",
       "      <th>10362</th>\n",
       "      <td>000065.317.43</td>\n",
       "    </tr>\n",
       "    <tr>\n",
       "      <th>10363</th>\n",
       "      <td>000065.317.44</td>\n",
       "    </tr>\n",
       "    <tr>\n",
       "      <th>10364</th>\n",
       "      <td>000065.317.45</td>\n",
       "    </tr>\n",
       "    <tr>\n",
       "      <th>10365</th>\n",
       "      <td>000065.317.46</td>\n",
       "    </tr>\n",
       "    <tr>\n",
       "      <th>10366</th>\n",
       "      <td>000065.317.47</td>\n",
       "    </tr>\n",
       "    <tr>\n",
       "      <th>10367</th>\n",
       "      <td>000065.317.48</td>\n",
       "    </tr>\n",
       "  </tbody>\n",
       "</table>\n",
       "<p>10368 rows × 1 columns</p>\n",
       "</div>"
      ],
      "text/plain": [
       "         cloud_ratio\n",
       "0         000048.818\n",
       "1       000048.818.1\n",
       "2       000048.818.2\n",
       "3       000048.818.3\n",
       "4       000048.818.4\n",
       "5       000048.818.5\n",
       "6       000048.818.6\n",
       "...              ...\n",
       "10361  000065.317.42\n",
       "10362  000065.317.43\n",
       "10363  000065.317.44\n",
       "10364  000065.317.45\n",
       "10365  000065.317.46\n",
       "10366  000065.317.47\n",
       "10367  000065.317.48\n",
       "\n",
       "[10368 rows x 1 columns]"
      ]
     },
     "execution_count": 13,
     "metadata": {},
     "output_type": "execute_result"
    }
   ],
   "source": [
    "# Now I will change the name of the column of data and reset the index\n",
    "cloud_dat = cloud_dat.reset_index()\n",
    "cloud_dat.columns=['cloud_ratio']\n",
    "# Here is a glimpse of what the data looks like now\n",
    "cloud_dat"
   ]
  },
  {
   "cell_type": "code",
   "execution_count": 14,
   "metadata": {
    "collapsed": false
   },
   "outputs": [
    {
     "data": {
      "text/html": [
       "<div>\n",
       "<table border=\"1\" class=\"dataframe\">\n",
       "  <thead>\n",
       "    <tr style=\"text-align: right;\">\n",
       "      <th></th>\n",
       "      <th>lattitude</th>\n",
       "      <th>longitude</th>\n",
       "    </tr>\n",
       "  </thead>\n",
       "  <tbody>\n",
       "    <tr>\n",
       "      <th>0</th>\n",
       "      <td>-90.0</td>\n",
       "      <td>-180.0</td>\n",
       "    </tr>\n",
       "    <tr>\n",
       "      <th>1</th>\n",
       "      <td>-90.0</td>\n",
       "      <td>-177.5</td>\n",
       "    </tr>\n",
       "    <tr>\n",
       "      <th>2</th>\n",
       "      <td>-90.0</td>\n",
       "      <td>-175.0</td>\n",
       "    </tr>\n",
       "    <tr>\n",
       "      <th>3</th>\n",
       "      <td>-90.0</td>\n",
       "      <td>-172.5</td>\n",
       "    </tr>\n",
       "    <tr>\n",
       "      <th>4</th>\n",
       "      <td>-90.0</td>\n",
       "      <td>-170.0</td>\n",
       "    </tr>\n",
       "    <tr>\n",
       "      <th>5</th>\n",
       "      <td>-90.0</td>\n",
       "      <td>-167.5</td>\n",
       "    </tr>\n",
       "    <tr>\n",
       "      <th>6</th>\n",
       "      <td>-90.0</td>\n",
       "      <td>-165.0</td>\n",
       "    </tr>\n",
       "    <tr>\n",
       "      <th>...</th>\n",
       "      <td>...</td>\n",
       "      <td>...</td>\n",
       "    </tr>\n",
       "    <tr>\n",
       "      <th>10361</th>\n",
       "      <td>87.5</td>\n",
       "      <td>162.5</td>\n",
       "    </tr>\n",
       "    <tr>\n",
       "      <th>10362</th>\n",
       "      <td>87.5</td>\n",
       "      <td>165.0</td>\n",
       "    </tr>\n",
       "    <tr>\n",
       "      <th>10363</th>\n",
       "      <td>87.5</td>\n",
       "      <td>167.5</td>\n",
       "    </tr>\n",
       "    <tr>\n",
       "      <th>10364</th>\n",
       "      <td>87.5</td>\n",
       "      <td>170.0</td>\n",
       "    </tr>\n",
       "    <tr>\n",
       "      <th>10365</th>\n",
       "      <td>87.5</td>\n",
       "      <td>172.5</td>\n",
       "    </tr>\n",
       "    <tr>\n",
       "      <th>10366</th>\n",
       "      <td>87.5</td>\n",
       "      <td>175.0</td>\n",
       "    </tr>\n",
       "    <tr>\n",
       "      <th>10367</th>\n",
       "      <td>87.5</td>\n",
       "      <td>177.5</td>\n",
       "    </tr>\n",
       "  </tbody>\n",
       "</table>\n",
       "<p>10368 rows × 2 columns</p>\n",
       "</div>"
      ],
      "text/plain": [
       "       lattitude  longitude\n",
       "0          -90.0     -180.0\n",
       "1          -90.0     -177.5\n",
       "2          -90.0     -175.0\n",
       "3          -90.0     -172.5\n",
       "4          -90.0     -170.0\n",
       "5          -90.0     -167.5\n",
       "6          -90.0     -165.0\n",
       "...          ...        ...\n",
       "10361       87.5      162.5\n",
       "10362       87.5      165.0\n",
       "10363       87.5      167.5\n",
       "10364       87.5      170.0\n",
       "10365       87.5      172.5\n",
       "10366       87.5      175.0\n",
       "10367       87.5      177.5\n",
       "\n",
       "[10368 rows x 2 columns]"
      ]
     },
     "execution_count": 14,
     "metadata": {},
     "output_type": "execute_result"
    }
   ],
   "source": [
    "# Next, I load a dataframe that I created in excel with three columns \n",
    "# (month, lattitude, and longitude) that have been filled in to line up \n",
    "# with the 'data' object.  \n",
    "clouds = pd.read_excel('../../data/blank_weather.xlsx',sep='\\s+')\n",
    "clouds"
   ]
  },
  {
   "cell_type": "code",
   "execution_count": 15,
   "metadata": {
    "collapsed": false
   },
   "outputs": [
    {
     "data": {
      "text/html": [
       "<div>\n",
       "<table border=\"1\" class=\"dataframe\">\n",
       "  <thead>\n",
       "    <tr style=\"text-align: right;\">\n",
       "      <th></th>\n",
       "      <th>lattitude</th>\n",
       "      <th>longitude</th>\n",
       "      <th>cloud_ratio</th>\n",
       "    </tr>\n",
       "  </thead>\n",
       "  <tbody>\n",
       "    <tr>\n",
       "      <th>0</th>\n",
       "      <td>-90.0</td>\n",
       "      <td>-180.0</td>\n",
       "      <td>000048.818</td>\n",
       "    </tr>\n",
       "    <tr>\n",
       "      <th>1</th>\n",
       "      <td>-90.0</td>\n",
       "      <td>-177.5</td>\n",
       "      <td>000048.818.1</td>\n",
       "    </tr>\n",
       "    <tr>\n",
       "      <th>2</th>\n",
       "      <td>-90.0</td>\n",
       "      <td>-175.0</td>\n",
       "      <td>000048.818.2</td>\n",
       "    </tr>\n",
       "    <tr>\n",
       "      <th>3</th>\n",
       "      <td>-90.0</td>\n",
       "      <td>-172.5</td>\n",
       "      <td>000048.818.3</td>\n",
       "    </tr>\n",
       "    <tr>\n",
       "      <th>4</th>\n",
       "      <td>-90.0</td>\n",
       "      <td>-170.0</td>\n",
       "      <td>000048.818.4</td>\n",
       "    </tr>\n",
       "    <tr>\n",
       "      <th>5</th>\n",
       "      <td>-90.0</td>\n",
       "      <td>-167.5</td>\n",
       "      <td>000048.818.5</td>\n",
       "    </tr>\n",
       "    <tr>\n",
       "      <th>6</th>\n",
       "      <td>-90.0</td>\n",
       "      <td>-165.0</td>\n",
       "      <td>000048.818.6</td>\n",
       "    </tr>\n",
       "    <tr>\n",
       "      <th>...</th>\n",
       "      <td>...</td>\n",
       "      <td>...</td>\n",
       "      <td>...</td>\n",
       "    </tr>\n",
       "    <tr>\n",
       "      <th>10361</th>\n",
       "      <td>87.5</td>\n",
       "      <td>162.5</td>\n",
       "      <td>000065.317.42</td>\n",
       "    </tr>\n",
       "    <tr>\n",
       "      <th>10362</th>\n",
       "      <td>87.5</td>\n",
       "      <td>165.0</td>\n",
       "      <td>000065.317.43</td>\n",
       "    </tr>\n",
       "    <tr>\n",
       "      <th>10363</th>\n",
       "      <td>87.5</td>\n",
       "      <td>167.5</td>\n",
       "      <td>000065.317.44</td>\n",
       "    </tr>\n",
       "    <tr>\n",
       "      <th>10364</th>\n",
       "      <td>87.5</td>\n",
       "      <td>170.0</td>\n",
       "      <td>000065.317.45</td>\n",
       "    </tr>\n",
       "    <tr>\n",
       "      <th>10365</th>\n",
       "      <td>87.5</td>\n",
       "      <td>172.5</td>\n",
       "      <td>000065.317.46</td>\n",
       "    </tr>\n",
       "    <tr>\n",
       "      <th>10366</th>\n",
       "      <td>87.5</td>\n",
       "      <td>175.0</td>\n",
       "      <td>000065.317.47</td>\n",
       "    </tr>\n",
       "    <tr>\n",
       "      <th>10367</th>\n",
       "      <td>87.5</td>\n",
       "      <td>177.5</td>\n",
       "      <td>000065.317.48</td>\n",
       "    </tr>\n",
       "  </tbody>\n",
       "</table>\n",
       "<p>10368 rows × 3 columns</p>\n",
       "</div>"
      ],
      "text/plain": [
       "       lattitude  longitude    cloud_ratio\n",
       "0          -90.0     -180.0     000048.818\n",
       "1          -90.0     -177.5   000048.818.1\n",
       "2          -90.0     -175.0   000048.818.2\n",
       "3          -90.0     -172.5   000048.818.3\n",
       "4          -90.0     -170.0   000048.818.4\n",
       "5          -90.0     -167.5   000048.818.5\n",
       "6          -90.0     -165.0   000048.818.6\n",
       "...          ...        ...            ...\n",
       "10361       87.5      162.5  000065.317.42\n",
       "10362       87.5      165.0  000065.317.43\n",
       "10363       87.5      167.5  000065.317.44\n",
       "10364       87.5      170.0  000065.317.45\n",
       "10365       87.5      172.5  000065.317.46\n",
       "10366       87.5      175.0  000065.317.47\n",
       "10367       87.5      177.5  000065.317.48\n",
       "\n",
       "[10368 rows x 3 columns]"
      ]
     },
     "execution_count": 15,
     "metadata": {},
     "output_type": "execute_result"
    }
   ],
   "source": [
    "# Now, we will add a fourth column to 'clouds' that is our data\n",
    "clouds['cloud_ratio'] = cloud_dat['cloud_ratio']\n",
    "clouds"
   ]
  },
  {
   "cell_type": "markdown",
   "metadata": {},
   "source": [
    "Now, 'clouds' is a nice looking dataframe that includes lattitude, longitude, and average sun that gets through the clouds for every month and the entire world"
   ]
  },
  {
   "cell_type": "markdown",
   "metadata": {},
   "source": [
    "Now I will make a function that takes lattitude and longitude as an input and returns sun_ratio for each month as an output"
   ]
  },
  {
   "cell_type": "code",
   "execution_count": 16,
   "metadata": {
    "collapsed": true
   },
   "outputs": [],
   "source": [
    "Watts = Solar_Energy_Calculator(49.7,.16,1.68)"
   ]
  },
  {
   "cell_type": "code",
   "execution_count": 17,
   "metadata": {
    "collapsed": true
   },
   "outputs": [],
   "source": [
    "def find_sun(lat,long):\n",
    "    '''This function finds the ratio of clouds for any lattitude and longitude and converts\n",
    "    it into the ratio of radiation that reaches the earth.\n",
    "    inputs: lattitude, longitude\n",
    "    output: radiation ratio'''\n",
    "    x = clouds.loc[(clouds['lattitude'] <= lat) & (clouds['lattitude'] > (lat-2.5)) & (clouds['longitude'] <= long) & (clouds['longitude'] > (long-2.5))]\n",
    "    radiation_ratio = 1-((float(x.iloc[0,2])*0.6)/100)\n",
    "    return(radiation_ratio)"
   ]
  },
  {
   "cell_type": "code",
   "execution_count": 18,
   "metadata": {
    "collapsed": false
   },
   "outputs": [
    {
     "data": {
      "text/plain": [
       "0.5745100000000001"
      ]
     },
     "execution_count": 18,
     "metadata": {},
     "output_type": "execute_result"
    }
   ],
   "source": [
    "radiation = find_sun(49,-123)\n",
    "radiation"
   ]
  },
  {
   "cell_type": "code",
   "execution_count": 19,
   "metadata": {
    "collapsed": false
   },
   "outputs": [],
   "source": [
    "def apply_clouds(watts,radiation):\n",
    "    '''This function takes a list of watts without clouds and radiation ratio due to clouds\n",
    "    and gives you a list of the real solar generation prediction.'''\n",
    "    energy = []\n",
    "    for i in watts:\n",
    "        energy.append(i*radiation)\n",
    "    return(energy)"
   ]
  },
  {
   "cell_type": "code",
   "execution_count": 20,
   "metadata": {
    "collapsed": false
   },
   "outputs": [
    {
     "data": {
      "text/plain": [
       "290.97357005727793"
      ]
     },
     "execution_count": 20,
     "metadata": {},
     "output_type": "execute_result"
    }
   ],
   "source": [
    "final = apply_clouds(Watts,radiation)\n",
    "sum(final)/1000"
   ]
  },
  {
   "cell_type": "markdown",
   "metadata": {},
   "source": [
    "#Making a Plot of the Data"
   ]
  },
  {
   "cell_type": "code",
   "execution_count": 22,
   "metadata": {
    "collapsed": false
   },
   "outputs": [
    {
     "data": {
      "text/plain": [
       "[<matplotlib.lines.Line2D at 0x10bfb7f28>]"
      ]
     },
     "execution_count": 22,
     "metadata": {},
     "output_type": "execute_result"
    },
    {
     "data": {
      "image/png": "[encoded data removed]",
      "text/plain": [
       "<matplotlib.figure.Figure at 0x10c01d780>"
      ]
     },
     "metadata": {},
     "output_type": "display_data"
    }
   ],
   "source": [
    "plt.plot(final)"
   ]
  },
  {
   "cell_type": "code",
   "execution_count": null,
   "metadata": {
    "collapsed": true
   },
   "outputs": [],
   "source": []
  }
 ],
 "metadata": {
  "kernelspec": {
   "display_name": "Python 3",
   "language": "python",
   "name": "python3"
  },
  "language_info": {
   "codemirror_mode": {
    "name": "ipython",
    "version": 3
   },
   "file_extension": ".py",
   "mimetype": "text/x-python",
   "name": "python",
   "nbconvert_exporter": "python",
   "pygments_lexer": "ipython3",
   "version": "3.4.3"
  }
 },
 "nbformat": 4,
 "nbformat_minor": 0
}
